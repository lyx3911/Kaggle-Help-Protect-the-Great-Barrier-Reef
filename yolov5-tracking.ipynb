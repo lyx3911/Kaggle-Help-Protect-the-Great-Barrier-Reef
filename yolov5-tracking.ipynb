{
 "cells": [
  {
   "cell_type": "code",
   "execution_count": null,
   "source": [
    "# !pip install -q imagesize\r\n",
    "# !pip install -qU wandb\r\n",
    "# !add-apt-repository ppa:ubuntu-toolchain-r/test -y\r\n",
    "# !apt-get update\r\n",
    "# !apt-get upgrade libstdc++6 -y"
   ],
   "outputs": [],
   "metadata": {
    "_kg_hide-input": true,
    "_kg_hide-output": true,
    "execution": {
     "iopub.execute_input": "2022-02-13T14:55:53.551595Z",
     "iopub.status.busy": "2022-02-13T14:55:53.550838Z",
     "iopub.status.idle": "2022-02-13T14:55:53.553328Z",
     "shell.execute_reply": "2022-02-13T14:55:53.552831Z",
     "shell.execute_reply.started": "2022-02-13T14:49:45.192595Z"
    },
    "papermill": {
     "duration": 0.033099,
     "end_time": "2022-02-13T14:55:53.553454",
     "exception": false,
     "start_time": "2022-02-13T14:55:53.520355",
     "status": "completed"
    },
    "tags": []
   }
  },
  {
   "cell_type": "markdown",
   "source": [
    "#  Yolov5 + tracking."
   ],
   "metadata": {
    "papermill": {
     "duration": 0.021265,
     "end_time": "2022-02-13T14:55:53.597377",
     "exception": false,
     "start_time": "2022-02-13T14:55:53.576112",
     "status": "completed"
    },
    "tags": []
   }
  },
  {
   "cell_type": "code",
   "execution_count": null,
   "source": [
    "# norfair dependencies\r\n",
    "%cd /kaggle/input/norfair031py3/\r\n",
    "!pip install commonmark-0.9.1-py2.py3-none-any.whl -f ./ --no-index\r\n",
    "!pip install rich-9.13.0-py3-none-any.whl\r\n",
    "\r\n",
    "!mkdir /kaggle/working/tmp\r\n",
    "!cp -r /kaggle/input/norfair031py3/filterpy-1.4.5/filterpy-1.4.5/ /kaggle/working/tmp/\r\n",
    "%cd /kaggle/working/tmp/filterpy-1.4.5/\r\n",
    "!pip install .\r\n",
    "!rm -rf /kaggle/working/tmp\r\n",
    "\r\n",
    "# norfair\r\n",
    "%cd /kaggle/input/norfair031py3/\r\n",
    "!pip install norfair-0.3.1-py3-none-any.whl -f ./ --no-index\r\n",
    "%cd .."
   ],
   "outputs": [],
   "metadata": {
    "execution": {
     "iopub.execute_input": "2022-02-13T14:55:53.670862Z",
     "iopub.status.busy": "2022-02-13T14:55:53.653087Z",
     "iopub.status.idle": "2022-02-13T14:57:08.062794Z",
     "shell.execute_reply": "2022-02-13T14:57:08.062026Z",
     "shell.execute_reply.started": "2022-02-13T14:49:45.213912Z"
    },
    "papermill": {
     "duration": 74.443608,
     "end_time": "2022-02-13T14:57:08.062964",
     "exception": false,
     "start_time": "2022-02-13T14:55:53.619356",
     "status": "completed"
    },
    "tags": []
   }
  },
  {
   "cell_type": "code",
   "execution_count": null,
   "source": [
    "# !cp -r ../input/wbf-ensemble ./\r\n",
    "# %cd wbf-ensemble\r\n",
    "# !pip install setup.py\r\n",
    "# %cd .."
   ],
   "outputs": [],
   "metadata": {
    "execution": {
     "iopub.execute_input": "2022-02-13T14:57:08.124005Z",
     "iopub.status.busy": "2022-02-13T14:57:08.123339Z",
     "iopub.status.idle": "2022-02-13T14:57:08.126766Z",
     "shell.execute_reply": "2022-02-13T14:57:08.126310Z",
     "shell.execute_reply.started": "2022-02-13T14:51:00.056670Z"
    },
    "papermill": {
     "duration": 0.034936,
     "end_time": "2022-02-13T14:57:08.126874",
     "exception": false,
     "start_time": "2022-02-13T14:57:08.091938",
     "status": "completed"
    },
    "tags": []
   }
  },
  {
   "cell_type": "code",
   "execution_count": null,
   "source": [
    "# import sys \r\n",
    "# sys.path.append('../input/wbf-ensemble')\r\n",
    "#from ensemble_boxes import *"
   ],
   "outputs": [],
   "metadata": {
    "execution": {
     "iopub.execute_input": "2022-02-13T14:57:08.186132Z",
     "iopub.status.busy": "2022-02-13T14:57:08.185465Z",
     "iopub.status.idle": "2022-02-13T14:57:08.187651Z",
     "shell.execute_reply": "2022-02-13T14:57:08.188191Z",
     "shell.execute_reply.started": "2022-02-13T14:51:00.064182Z"
    },
    "papermill": {
     "duration": 0.033587,
     "end_time": "2022-02-13T14:57:08.188308",
     "exception": false,
     "start_time": "2022-02-13T14:57:08.154721",
     "status": "completed"
    },
    "tags": []
   }
  },
  {
   "cell_type": "markdown",
   "source": [
    "# 📚 Import Libraries"
   ],
   "metadata": {
    "papermill": {
     "duration": 0.02813,
     "end_time": "2022-02-13T14:57:08.244769",
     "exception": false,
     "start_time": "2022-02-13T14:57:08.216639",
     "status": "completed"
    },
    "tags": []
   }
  },
  {
   "cell_type": "code",
   "execution_count": null,
   "source": [
    "import numpy as np\r\n",
    "from tqdm.notebook import tqdm\r\n",
    "tqdm.pandas()\r\n",
    "import pandas as pd\r\n",
    "import os\r\n",
    "import cv2\r\n",
    "import matplotlib.pyplot as plt\r\n",
    "import glob\r\n",
    "import shutil\r\n",
    "import sys\r\n",
    "sys.path.append('../input/tensorflow-great-barrier-reef')\r\n",
    "import torch\r\n",
    "from PIL import Image\r\n",
    "import ast\r\n",
    "import albumentations as albu"
   ],
   "outputs": [],
   "metadata": {
    "_cell_guid": "b1076dfc-b9ad-4769-8c92-a6c4dae69d19",
    "_uuid": "8f2839f25d086af736a60e9eeb907d3b93b6e0e5",
    "execution": {
     "iopub.execute_input": "2022-02-13T14:57:08.305755Z",
     "iopub.status.busy": "2022-02-13T14:57:08.305209Z",
     "iopub.status.idle": "2022-02-13T14:57:11.671926Z",
     "shell.execute_reply": "2022-02-13T14:57:11.671320Z",
     "shell.execute_reply.started": "2022-02-13T14:51:00.073665Z"
    },
    "papermill": {
     "duration": 3.398829,
     "end_time": "2022-02-13T14:57:11.672075",
     "exception": false,
     "start_time": "2022-02-13T14:57:08.273246",
     "status": "completed"
    },
    "tags": []
   }
  },
  {
   "cell_type": "code",
   "execution_count": null,
   "source": [
    "ROOT_DIR  = '/kaggle/input/tensorflow-great-barrier-reef/'\r\n",
    "CKPT_PATH = '../input/f2-sub2/f2_sub2.pt'\r\n",
    "IMG_SIZE  = 5120\r\n",
    "CONF      = 0.5\r\n",
    "IOU       = 0.5\r\n",
    "AUGMENT   = True\r\n",
    "FDA_aug = False"
   ],
   "outputs": [],
   "metadata": {
    "execution": {
     "iopub.execute_input": "2022-02-13T14:57:11.743451Z",
     "iopub.status.busy": "2022-02-13T14:57:11.742597Z",
     "iopub.status.idle": "2022-02-13T14:57:11.745066Z",
     "shell.execute_reply": "2022-02-13T14:57:11.745490Z",
     "shell.execute_reply.started": "2022-02-13T14:51:03.347761Z"
    },
    "papermill": {
     "duration": 0.04274,
     "end_time": "2022-02-13T14:57:11.745631",
     "exception": false,
     "start_time": "2022-02-13T14:57:11.702891",
     "status": "completed"
    },
    "tags": []
   }
  },
  {
   "cell_type": "code",
   "execution_count": null,
   "source": [
    "def get_path(row):\r\n",
    "    row['image_path'] = f'{ROOT_DIR}/train_images/video_{row.video_id}/{row.video_frame}.jpg'\r\n",
    "    return row"
   ],
   "outputs": [],
   "metadata": {
    "execution": {
     "iopub.execute_input": "2022-02-13T14:57:11.817355Z",
     "iopub.status.busy": "2022-02-13T14:57:11.816463Z",
     "iopub.status.idle": "2022-02-13T14:57:11.818864Z",
     "shell.execute_reply": "2022-02-13T14:57:11.818267Z",
     "shell.execute_reply.started": "2022-02-13T14:51:03.354975Z"
    },
    "papermill": {
     "duration": 0.038382,
     "end_time": "2022-02-13T14:57:11.818987",
     "exception": false,
     "start_time": "2022-02-13T14:57:11.780605",
     "status": "completed"
    },
    "tags": []
   }
  },
  {
   "cell_type": "code",
   "execution_count": null,
   "source": [
    "# Train Data\r\n",
    "df = pd.read_csv(f'{ROOT_DIR}/train.csv')\r\n",
    "df = df.progress_apply(get_path, axis=1)\r\n",
    "df['annotations'] = df['annotations'].progress_apply(lambda x: ast.literal_eval(x))\r\n",
    "display(df.head(2))"
   ],
   "outputs": [],
   "metadata": {
    "execution": {
     "iopub.execute_input": "2022-02-13T14:57:11.884936Z",
     "iopub.status.busy": "2022-02-13T14:57:11.884337Z",
     "iopub.status.idle": "2022-02-13T14:57:28.285084Z",
     "shell.execute_reply": "2022-02-13T14:57:28.285581Z",
     "shell.execute_reply.started": "2022-02-13T14:51:03.367907Z"
    },
    "papermill": {
     "duration": 16.436734,
     "end_time": "2022-02-13T14:57:28.285785",
     "exception": false,
     "start_time": "2022-02-13T14:57:11.849051",
     "status": "completed"
    },
    "tags": []
   }
  },
  {
   "cell_type": "code",
   "execution_count": null,
   "source": [
    "FDA_reference = df[df['annotations']!='[]']"
   ],
   "outputs": [],
   "metadata": {
    "execution": {
     "iopub.execute_input": "2022-02-13T14:57:28.360785Z",
     "iopub.status.busy": "2022-02-13T14:57:28.359760Z",
     "iopub.status.idle": "2022-02-13T14:57:28.369311Z",
     "shell.execute_reply": "2022-02-13T14:57:28.369785Z",
     "shell.execute_reply.started": "2022-02-13T14:51:19.881251Z"
    },
    "papermill": {
     "duration": 0.052093,
     "end_time": "2022-02-13T14:57:28.369941",
     "exception": false,
     "start_time": "2022-02-13T14:57:28.317848",
     "status": "completed"
    },
    "tags": []
   }
  },
  {
   "cell_type": "code",
   "execution_count": null,
   "source": [
    "FDA_trans = albu.FDA(FDA_reference['image_path'].values)"
   ],
   "outputs": [],
   "metadata": {
    "execution": {
     "iopub.execute_input": "2022-02-13T14:57:28.443470Z",
     "iopub.status.busy": "2022-02-13T14:57:28.442519Z",
     "iopub.status.idle": "2022-02-13T14:57:28.444816Z",
     "shell.execute_reply": "2022-02-13T14:57:28.445294Z",
     "shell.execute_reply.started": "2022-02-13T14:51:19.901140Z"
    },
    "papermill": {
     "duration": 0.041298,
     "end_time": "2022-02-13T14:57:28.445439",
     "exception": false,
     "start_time": "2022-02-13T14:57:28.404141",
     "status": "completed"
    },
    "tags": []
   }
  },
  {
   "cell_type": "markdown",
   "source": [
    "## Number of BBoxes"
   ],
   "metadata": {
    "papermill": {
     "duration": 0.034384,
     "end_time": "2022-02-13T14:57:28.513608",
     "exception": false,
     "start_time": "2022-02-13T14:57:28.479224",
     "status": "completed"
    },
    "tags": []
   }
  },
  {
   "cell_type": "code",
   "execution_count": null,
   "source": [
    "df['num_bbox'] = df['annotations'].progress_apply(lambda x: len(x))\r\n",
    "data = (df.num_bbox>0).value_counts()/len(df)*100\r\n",
    "print(f\"No BBox: {data[0]:0.2f}% | With BBox: {data[1]:0.2f}%\")"
   ],
   "outputs": [],
   "metadata": {
    "execution": {
     "iopub.execute_input": "2022-02-13T14:57:28.612072Z",
     "iopub.status.busy": "2022-02-13T14:57:28.611052Z",
     "iopub.status.idle": "2022-02-13T14:57:28.691511Z",
     "shell.execute_reply": "2022-02-13T14:57:28.691029Z",
     "shell.execute_reply.started": "2022-02-13T14:51:19.908067Z"
    },
    "papermill": {
     "duration": 0.143723,
     "end_time": "2022-02-13T14:57:28.691647",
     "exception": false,
     "start_time": "2022-02-13T14:57:28.547924",
     "status": "completed"
    },
    "tags": []
   }
  },
  {
   "cell_type": "markdown",
   "source": [
    "# 🔨 Helper"
   ],
   "metadata": {
    "papermill": {
     "duration": 0.03519,
     "end_time": "2022-02-13T14:57:28.762247",
     "exception": false,
     "start_time": "2022-02-13T14:57:28.727057",
     "status": "completed"
    },
    "tags": []
   }
  },
  {
   "cell_type": "code",
   "execution_count": null,
   "source": [
    "def voc2yolo(bboxes, image_height=720, image_width=1280):\r\n",
    "    \"\"\"\r\n",
    "    voc  => [x1, y1, x2, y1]\r\n",
    "    yolo => [xmid, ymid, w, h] (normalized)\r\n",
    "    \"\"\"\r\n",
    "    \r\n",
    "    bboxes = bboxes.copy().astype(float) # otherwise all value will be 0 as voc_pascal dtype is np.int\r\n",
    "    \r\n",
    "    bboxes[..., [0, 2]] = bboxes[..., [0, 2]]/ image_width\r\n",
    "    bboxes[..., [1, 3]] = bboxes[..., [1, 3]]/ image_height\r\n",
    "    \r\n",
    "    w = bboxes[..., 2] - bboxes[..., 0]\r\n",
    "    h = bboxes[..., 3] - bboxes[..., 1]\r\n",
    "    \r\n",
    "    bboxes[..., 0] = bboxes[..., 0] + w/2\r\n",
    "    bboxes[..., 1] = bboxes[..., 1] + h/2\r\n",
    "    bboxes[..., 2] = w\r\n",
    "    bboxes[..., 3] = h\r\n",
    "    \r\n",
    "    return bboxes\r\n",
    "\r\n",
    "def yolo2voc(bboxes, image_height=720, image_width=1280):\r\n",
    "    \"\"\"\r\n",
    "    yolo => [xmid, ymid, w, h] (normalized)\r\n",
    "    voc  => [x1, y1, x2, y1]\r\n",
    "    \r\n",
    "    \"\"\" \r\n",
    "    bboxes = bboxes.copy().astype(float) # otherwise all value will be 0 as voc_pascal dtype is np.int\r\n",
    "    \r\n",
    "    bboxes[..., [0, 2]] = bboxes[..., [0, 2]]* image_width\r\n",
    "    bboxes[..., [1, 3]] = bboxes[..., [1, 3]]* image_height\r\n",
    "    \r\n",
    "    bboxes[..., [0, 1]] = bboxes[..., [0, 1]] - bboxes[..., [2, 3]]/2\r\n",
    "    bboxes[..., [2, 3]] = bboxes[..., [0, 1]] + bboxes[..., [2, 3]]\r\n",
    "    \r\n",
    "    return bboxes\r\n",
    "\r\n",
    "def coco2yolo(bboxes, image_height=720, image_width=1280):\r\n",
    "    \"\"\"\r\n",
    "    coco => [xmin, ymin, w, h]\r\n",
    "    yolo => [xmid, ymid, w, h] (normalized)\r\n",
    "    \"\"\"\r\n",
    "    \r\n",
    "    bboxes = bboxes.copy().astype(float) # otherwise all value will be 0 as voc_pascal dtype is np.int\r\n",
    "    \r\n",
    "    # normolizinig\r\n",
    "    bboxes[..., [0, 2]]= bboxes[..., [0, 2]]/ image_width\r\n",
    "    bboxes[..., [1, 3]]= bboxes[..., [1, 3]]/ image_height\r\n",
    "    \r\n",
    "    # converstion (xmin, ymin) => (xmid, ymid)\r\n",
    "    bboxes[..., [0, 1]] = bboxes[..., [0, 1]] + bboxes[..., [2, 3]]/2\r\n",
    "    \r\n",
    "    return bboxes\r\n",
    "\r\n",
    "def yolo2coco(bboxes, image_height=720, image_width=1280):\r\n",
    "    \"\"\"\r\n",
    "    yolo => [xmid, ymid, w, h] (normalized)\r\n",
    "    coco => [xmin, ymin, w, h]\r\n",
    "    \r\n",
    "    \"\"\" \r\n",
    "    bboxes = bboxes.copy().astype(float) # otherwise all value will be 0 as voc_pascal dtype is np.int\r\n",
    "    \r\n",
    "    # denormalizing\r\n",
    "    bboxes[..., [0, 2]]= bboxes[..., [0, 2]]* image_width\r\n",
    "    bboxes[..., [1, 3]]= bboxes[..., [1, 3]]* image_height\r\n",
    "    \r\n",
    "    # converstion (xmid, ymid) => (xmin, ymin) \r\n",
    "    bboxes[..., [0, 1]] = bboxes[..., [0, 1]] - bboxes[..., [2, 3]]/2\r\n",
    "    \r\n",
    "    return bboxes\r\n",
    "\r\n",
    "def voc2coco(bboxes, image_height=720, image_width=1280):\r\n",
    "    bboxes  = voc2yolo(bboxes, image_height, image_width)\r\n",
    "    bboxes  = yolo2coco(bboxes, image_height, image_width)\r\n",
    "    return bboxes\r\n",
    "\r\n",
    "\r\n",
    "def load_image(image_path):\r\n",
    "    return cv2.cvtColor(cv2.imread(image_path), cv2.COLOR_BGR2RGB)\r\n",
    "\r\n",
    "\r\n",
    "def plot_one_box(x, img, color=None, label=None, line_thickness=None):\r\n",
    "    # Plots one bounding box on image img\r\n",
    "    tl = line_thickness or round(0.002 * (img.shape[0] + img.shape[1]) / 2) + 1  # line/font thickness\r\n",
    "    color = color or [random.randint(0, 255) for _ in range(3)]\r\n",
    "    c1, c2 = (int(x[0]), int(x[1])), (int(x[2]), int(x[3]))\r\n",
    "    cv2.rectangle(img, c1, c2, color, thickness=tl, lineType=cv2.LINE_AA)\r\n",
    "    if label:\r\n",
    "        tf = max(tl - 1, 1)  # font thickness\r\n",
    "        t_size = cv2.getTextSize(label, 0, fontScale=tl / 3, thickness=tf)[0]\r\n",
    "        c2 = c1[0] + t_size[0], c1[1] - t_size[1] - 3\r\n",
    "        cv2.rectangle(img, c1, c2, color, -1, cv2.LINE_AA)  # filled\r\n",
    "        cv2.putText(img, label, (c1[0], c1[1] - 2), 0, tl / 3, [225, 255, 255], thickness=tf, lineType=cv2.LINE_AA)\r\n",
    "\r\n",
    "def draw_bboxes(img, bboxes, classes, class_ids, colors = None, show_classes = None, bbox_format = 'yolo', class_name = False, line_thickness = 2):  \r\n",
    "     \r\n",
    "    image = img.copy()\r\n",
    "    show_classes = classes if show_classes is None else show_classes\r\n",
    "    colors = (0, 255 ,0) if colors is None else colors\r\n",
    "    \r\n",
    "    if bbox_format == 'yolo':\r\n",
    "        \r\n",
    "        for idx in range(len(bboxes)):  \r\n",
    "            \r\n",
    "            bbox  = bboxes[idx]\r\n",
    "            cls   = classes[idx]\r\n",
    "            cls_id = class_ids[idx]\r\n",
    "            color = colors[cls_id] if type(colors) is list else colors\r\n",
    "            \r\n",
    "            if cls in show_classes:\r\n",
    "            \r\n",
    "                x1 = round(float(bbox[0])*image.shape[1])\r\n",
    "                y1 = round(float(bbox[1])*image.shape[0])\r\n",
    "                w  = round(float(bbox[2])*image.shape[1]/2) #w/2 \r\n",
    "                h  = round(float(bbox[3])*image.shape[0]/2)\r\n",
    "\r\n",
    "                voc_bbox = (x1-w, y1-h, x1+w, y1+h)\r\n",
    "                plot_one_box(voc_bbox, \r\n",
    "                             image,\r\n",
    "                             color = color,\r\n",
    "                             label = cls if class_name else str(get_label(cls)),\r\n",
    "                             line_thickness = line_thickness)\r\n",
    "            \r\n",
    "    elif bbox_format == 'coco':\r\n",
    "        \r\n",
    "        for idx in range(len(bboxes)):  \r\n",
    "            \r\n",
    "            bbox  = bboxes[idx]\r\n",
    "            cls   = classes[idx]\r\n",
    "            cls_id = class_ids[idx]\r\n",
    "            color = colors[cls_id] if type(colors) is list else colors\r\n",
    "            \r\n",
    "            if cls in show_classes:            \r\n",
    "                x1 = int(round(bbox[0]))\r\n",
    "                y1 = int(round(bbox[1]))\r\n",
    "                w  = int(round(bbox[2]))\r\n",
    "                h  = int(round(bbox[3]))\r\n",
    "\r\n",
    "                voc_bbox = (x1, y1, x1+w, y1+h)\r\n",
    "                plot_one_box(voc_bbox, \r\n",
    "                             image,\r\n",
    "                             color = color,\r\n",
    "                             label = cls if class_name else str(cls_id),\r\n",
    "                             line_thickness = line_thickness)\r\n",
    "\r\n",
    "    elif bbox_format == 'voc_pascal':\r\n",
    "        \r\n",
    "        for idx in range(len(bboxes)):  \r\n",
    "            \r\n",
    "            bbox  = bboxes[idx]\r\n",
    "            cls   = classes[idx]\r\n",
    "            cls_id = class_ids[idx]\r\n",
    "            color = colors[cls_id] if type(colors) is list else colors\r\n",
    "            \r\n",
    "            if cls in show_classes: \r\n",
    "                x1 = int(round(bbox[0]))\r\n",
    "                y1 = int(round(bbox[1]))\r\n",
    "                x2 = int(round(bbox[2]))\r\n",
    "                y2 = int(round(bbox[3]))\r\n",
    "                voc_bbox = (x1, y1, x2, y2)\r\n",
    "                plot_one_box(voc_bbox, \r\n",
    "                             image,\r\n",
    "                             color = color,\r\n",
    "                             label = cls if class_name else str(cls_id),\r\n",
    "                             line_thickness = line_thickness)\r\n",
    "    else:\r\n",
    "        raise ValueError('wrong bbox format')\r\n",
    "\r\n",
    "    return image\r\n",
    "\r\n",
    "def get_bbox(annots):\r\n",
    "    bboxes = [list(annot.values()) for annot in annots]\r\n",
    "    return bboxes\r\n",
    "\r\n",
    "def get_imgsize(row):\r\n",
    "    row['width'], row['height'] = imagesize.get(row['image_path'])\r\n",
    "    return row\r\n",
    "\r\n",
    "np.random.seed(32)\r\n",
    "colors = [(np.random.randint(255), np.random.randint(255), np.random.randint(255))\\\r\n",
    "          for idx in range(1)]"
   ],
   "outputs": [],
   "metadata": {
    "_kg_hide-input": true,
    "execution": {
     "iopub.execute_input": "2022-02-13T14:57:28.872539Z",
     "iopub.status.busy": "2022-02-13T14:57:28.855931Z",
     "iopub.status.idle": "2022-02-13T14:57:28.877644Z",
     "shell.execute_reply": "2022-02-13T14:57:28.876835Z",
     "shell.execute_reply.started": "2022-02-13T14:51:20.008454Z"
    },
    "papermill": {
     "duration": 0.081058,
     "end_time": "2022-02-13T14:57:28.877795",
     "exception": false,
     "start_time": "2022-02-13T14:57:28.796737",
     "status": "completed"
    },
    "tags": []
   }
  },
  {
   "cell_type": "code",
   "execution_count": null,
   "source": [
    "##############################################################\r\n",
    "#                      Tracking helpers                      #\r\n",
    "##############################################################\r\n",
    "\r\n",
    "import numpy as np\r\n",
    "from norfair import Detection, Tracker\r\n",
    "\r\n",
    "# Helper to convert bbox in format [x_min, y_min, x_max, y_max, score] to norfair.Detection class\r\n",
    "def to_norfair(detects, frame_id):\r\n",
    "    result = []\r\n",
    "    for x_min, y_min, x_max, y_max, score in detects:\r\n",
    "        xc, yc = (x_min + x_max) / 2, (y_min + y_max) / 2\r\n",
    "        w, h = x_max - x_min, y_max - y_min\r\n",
    "        result.append(Detection(points=np.array([xc, yc]), scores=np.array([score]), data=np.array([w, h, frame_id])))\r\n",
    "        \r\n",
    "    return result\r\n",
    "\r\n",
    "# Euclidean distance function to match detections on this frame with tracked_objects from previous frames\r\n",
    "def euclidean_distance(detection, tracked_object):\r\n",
    "    return np.linalg.norm(detection.points - tracked_object.estimate)\r\n",
    "\r\n"
   ],
   "outputs": [],
   "metadata": {
    "execution": {
     "iopub.execute_input": "2022-02-13T14:57:28.954700Z",
     "iopub.status.busy": "2022-02-13T14:57:28.953656Z",
     "iopub.status.idle": "2022-02-13T14:57:29.001557Z",
     "shell.execute_reply": "2022-02-13T14:57:29.001042Z",
     "shell.execute_reply.started": "2022-02-13T14:51:20.051456Z"
    },
    "papermill": {
     "duration": 0.090352,
     "end_time": "2022-02-13T14:57:29.001715",
     "exception": false,
     "start_time": "2022-02-13T14:57:28.911363",
     "status": "completed"
    },
    "tags": []
   }
  },
  {
   "cell_type": "code",
   "execution_count": null,
   "source": [
    "!mkdir -p /root/.config/Ultralytics\r\n",
    "!cp /kaggle/input/yolov5-font/Arial.ttf /root/.config/Ultralytics/"
   ],
   "outputs": [],
   "metadata": {
    "_kg_hide-input": true,
    "execution": {
     "iopub.execute_input": "2022-02-13T14:57:29.075025Z",
     "iopub.status.busy": "2022-02-13T14:57:29.074134Z",
     "iopub.status.idle": "2022-02-13T14:57:30.538321Z",
     "shell.execute_reply": "2022-02-13T14:57:30.537480Z",
     "shell.execute_reply.started": "2022-02-13T14:51:20.100991Z"
    },
    "papermill": {
     "duration": 1.501989,
     "end_time": "2022-02-13T14:57:30.538471",
     "exception": false,
     "start_time": "2022-02-13T14:57:29.036482",
     "status": "completed"
    },
    "tags": []
   }
  },
  {
   "cell_type": "code",
   "execution_count": null,
   "source": [
    "def load_model(ckpt_path, conf=0.28, iou=0.40):\r\n",
    "    model = torch.hub.load('/kaggle/input/yolov5-lib-ds',\r\n",
    "                           'custom',\r\n",
    "                           path=ckpt_path,\r\n",
    "                           source='local',\r\n",
    "                           force_reload=True)  # local repo\r\n",
    "    model.conf = conf  # NMS confidence threshold\r\n",
    "    model.iou  = iou  # NMS IoU threshold\r\n",
    "    model.classes = None   # (optional list) filter by class, i.e. = [0, 15, 16] for persons, cats and dogs\r\n",
    "    model.multi_label = False  # NMS multiple labels per box\r\n",
    "    model.max_det = 20  # maximum number of detections per image\r\n",
    "    return model"
   ],
   "outputs": [],
   "metadata": {
    "_kg_hide-input": true,
    "execution": {
     "iopub.execute_input": "2022-02-13T14:57:30.615859Z",
     "iopub.status.busy": "2022-02-13T14:57:30.614835Z",
     "iopub.status.idle": "2022-02-13T14:57:30.616788Z",
     "shell.execute_reply": "2022-02-13T14:57:30.617380Z",
     "shell.execute_reply.started": "2022-02-13T14:51:21.457808Z"
    },
    "papermill": {
     "duration": 0.044656,
     "end_time": "2022-02-13T14:57:30.617523",
     "exception": false,
     "start_time": "2022-02-13T14:57:30.572867",
     "status": "completed"
    },
    "tags": []
   }
  },
  {
   "cell_type": "markdown",
   "source": [
    "# 🔭 Inference"
   ],
   "metadata": {
    "papermill": {
     "duration": 0.034457,
     "end_time": "2022-02-13T14:57:30.686080",
     "exception": false,
     "start_time": "2022-02-13T14:57:30.651623",
     "status": "completed"
    },
    "tags": []
   }
  },
  {
   "cell_type": "markdown",
   "source": [
    "## Helper"
   ],
   "metadata": {
    "papermill": {
     "duration": 0.034133,
     "end_time": "2022-02-13T14:57:30.754414",
     "exception": false,
     "start_time": "2022-02-13T14:57:30.720281",
     "status": "completed"
    },
    "tags": []
   }
  },
  {
   "cell_type": "code",
   "execution_count": null,
   "source": [
    "def predict(model, img, size=9000, augment=False):\r\n",
    "    height, width = img.shape[:2]\r\n",
    "    results = model(img, size=size, augment=augment)  # custom inference size\r\n",
    "    preds   = results.pandas().xyxy[0]\r\n",
    "    bboxes  = preds[['xmin','ymin','xmax','ymax']].values\r\n",
    "    if len(bboxes):\r\n",
    "        bboxes  = voc2coco(bboxes,height,width).astype(int)\r\n",
    "        confs   = preds.confidence.values\r\n",
    "        return bboxes, confs\r\n",
    "    else:\r\n",
    "        return [],[]\r\n",
    "    \r\n",
    "def format_prediction(bboxes, confs):\r\n",
    "    annot = ''\r\n",
    "    if len(bboxes)>0:\r\n",
    "        for idx in range(len(bboxes)):\r\n",
    "            xmin, ymin, w, h = bboxes[idx]\r\n",
    "            conf             = confs[idx]\r\n",
    "            annot += f'{conf} {xmin} {ymin} {w} {h}'\r\n",
    "            annot +=' '\r\n",
    "        annot = annot.strip(' ')\r\n",
    "    return annot\r\n",
    "\r\n",
    "def show_img(img, bboxes, bbox_format='yolo'):\r\n",
    "    names  = ['starfish']*len(bboxes)\r\n",
    "    labels = [0]*len(bboxes)\r\n",
    "    img    = draw_bboxes(img = img,\r\n",
    "                           bboxes = bboxes, \r\n",
    "                           classes = names,\r\n",
    "                           class_ids = labels,\r\n",
    "                           class_name = True, \r\n",
    "                           colors = colors, \r\n",
    "                           bbox_format = bbox_format,\r\n",
    "                           line_thickness = 2)\r\n",
    "    return Image.fromarray(img).resize((800, 400))"
   ],
   "outputs": [],
   "metadata": {
    "_kg_hide-input": true,
    "execution": {
     "iopub.execute_input": "2022-02-13T14:57:30.833982Z",
     "iopub.status.busy": "2022-02-13T14:57:30.833013Z",
     "iopub.status.idle": "2022-02-13T14:57:30.835045Z",
     "shell.execute_reply": "2022-02-13T14:57:30.835485Z",
     "shell.execute_reply.started": "2022-02-13T14:51:21.466520Z"
    },
    "papermill": {
     "duration": 0.046835,
     "end_time": "2022-02-13T14:57:30.835621",
     "exception": false,
     "start_time": "2022-02-13T14:57:30.788786",
     "status": "completed"
    },
    "tags": []
   }
  },
  {
   "cell_type": "code",
   "execution_count": null,
   "source": [
    "def tracking_function(tracker, frame_id, bboxes, scores):\r\n",
    "    \r\n",
    "    detects = []\r\n",
    "    predictions = []\r\n",
    "    \r\n",
    "    if len(scores)>0:\r\n",
    "        for i in range(len(bboxes)):\r\n",
    "            box = bboxes[i]\r\n",
    "            score = scores[i]\r\n",
    "            x_min = int(box[0])\r\n",
    "            y_min = int(box[1])\r\n",
    "            bbox_width = int(box[2])\r\n",
    "            bbox_height = int(box[3])\r\n",
    "            detects.append([x_min, y_min, x_min+bbox_width, y_min+bbox_height, score])\r\n",
    "            predictions.append('{:.2f} {} {} {} {}'.format(score, x_min, y_min, bbox_width, bbox_height))\r\n",
    "#             print(predictions[:-1])\r\n",
    "    # Update tracks using detects from current frame\r\n",
    "    tracked_objects = tracker.update(detections=to_norfair(detects, frame_id))\r\n",
    "    for tobj in tracked_objects:\r\n",
    "        bbox_width, bbox_height, last_detected_frame_id = tobj.last_detection.data\r\n",
    "        if last_detected_frame_id == frame_id:  # Skip objects that were detected on current frame\r\n",
    "            continue\r\n",
    "        # Add objects that have no detections on current frame to predictions\r\n",
    "        xc, yc = tobj.estimate[0]\r\n",
    "        x_min, y_min = int(round(xc - bbox_width / 2)), int(round(yc - bbox_height / 2))\r\n",
    "        score = tobj.last_detection.scores[0]\r\n",
    "\r\n",
    "        predictions.append('{:.2f} {} {} {} {}'.format(score, x_min, y_min, bbox_width, bbox_height))\r\n",
    "        \r\n",
    "    return predictions"
   ],
   "outputs": [],
   "metadata": {
    "execution": {
     "iopub.execute_input": "2022-02-13T14:57:30.967532Z",
     "iopub.status.busy": "2022-02-13T14:57:30.966544Z",
     "iopub.status.idle": "2022-02-13T14:57:30.969669Z",
     "shell.execute_reply": "2022-02-13T14:57:30.969093Z",
     "shell.execute_reply.started": "2022-02-13T14:51:21.480181Z"
    },
    "papermill": {
     "duration": 0.048362,
     "end_time": "2022-02-13T14:57:30.969816",
     "exception": false,
     "start_time": "2022-02-13T14:57:30.921454",
     "status": "completed"
    },
    "tags": []
   }
  },
  {
   "cell_type": "markdown",
   "source": [
    "## Run Inference on **Train**"
   ],
   "metadata": {
    "papermill": {
     "duration": 0.033806,
     "end_time": "2022-02-13T14:57:31.037948",
     "exception": false,
     "start_time": "2022-02-13T14:57:31.004142",
     "status": "completed"
    },
    "tags": []
   }
  },
  {
   "cell_type": "code",
   "execution_count": null,
   "source": [
    "def CLAHE(image):\r\n",
    "    gray = cv2.cvtColor(image, cv2.COLOR_BGR2GRAY)\r\n",
    "    clahe = cv2.createCLAHE(clipLimit=2.0, tileGridSize=(8, 8))\r\n",
    "    equalized = clahe.apply(gray)\r\n",
    "    return equalized\r\n",
    "def Gamma_enhancement(image):\r\n",
    "    gamma = 1/0.6\r\n",
    "    R = 255.0\r\n",
    "    return (R * np.power(image.astype(np.uint32)/R, gamma)).astype(np.uint8)\r\n"
   ],
   "outputs": [],
   "metadata": {
    "execution": {
     "iopub.execute_input": "2022-02-13T14:57:31.114523Z",
     "iopub.status.busy": "2022-02-13T14:57:31.113563Z",
     "iopub.status.idle": "2022-02-13T14:57:31.115764Z",
     "shell.execute_reply": "2022-02-13T14:57:31.116227Z",
     "shell.execute_reply.started": "2022-02-13T14:51:21.492122Z"
    },
    "papermill": {
     "duration": 0.043746,
     "end_time": "2022-02-13T14:57:31.116365",
     "exception": false,
     "start_time": "2022-02-13T14:57:31.072619",
     "status": "completed"
    },
    "tags": []
   }
  },
  {
   "cell_type": "code",
   "execution_count": null,
   "source": [
    "tracker = Tracker(\r\n",
    "    distance_function=euclidean_distance, \r\n",
    "    distance_threshold=50,\r\n",
    "    hit_inertia_min=1,\r\n",
    "    hit_inertia_max=5,\r\n",
    "    initialization_delay=2,\r\n",
    ")\r\n",
    "\r\n",
    "model = load_model(CKPT_PATH, conf=CONF, iou=IOU)\r\n",
    "image_paths = df[df.num_bbox>1].sample(100).image_path.tolist()\r\n",
    "frame_id = 0\r\n",
    "for idx, path in enumerate(image_paths):\r\n",
    "    img = cv2.imread(path)[...,::-1]\r\n",
    "    if FDA_aug:\r\n",
    "        img = FDA_trans(image=img)['image']\r\n",
    "    bboxes, confis = predict(model, img, size=IMG_SIZE, augment=AUGMENT)\r\n",
    "    predict_box = tracking_function(tracker, frame_id, bboxes, confis)\r\n",
    "\r\n",
    "    if len(predict_box)>0:\r\n",
    "        box = [list(map(int,box.split(' ')[1:])) for box in predict_box]\r\n",
    "    else:\r\n",
    "        box = []\r\n",
    "    display(show_img(img, box, bbox_format='coco'))\r\n",
    "    if idx>5:\r\n",
    "        break\r\n",
    "    frame_id += 1"
   ],
   "outputs": [],
   "metadata": {
    "_kg_hide-input": true,
    "execution": {
     "iopub.execute_input": "2022-02-13T14:57:31.192975Z",
     "iopub.status.busy": "2022-02-13T14:57:31.192255Z",
     "iopub.status.idle": "2022-02-13T14:57:45.118499Z",
     "shell.execute_reply": "2022-02-13T14:57:45.119029Z",
     "shell.execute_reply.started": "2022-02-13T14:51:21.504016Z"
    },
    "papermill": {
     "duration": 13.969677,
     "end_time": "2022-02-13T14:57:45.119193",
     "exception": false,
     "start_time": "2022-02-13T14:57:31.149516",
     "status": "completed"
    },
    "tags": []
   }
  },
  {
   "cell_type": "markdown",
   "source": [
    "## Init `Env`"
   ],
   "metadata": {
    "papermill": {
     "duration": 0.171054,
     "end_time": "2022-02-13T14:57:45.461195",
     "exception": false,
     "start_time": "2022-02-13T14:57:45.290141",
     "status": "completed"
    },
    "tags": []
   }
  },
  {
   "cell_type": "code",
   "execution_count": null,
   "source": [
    "import greatbarrierreef\r\n",
    "env = greatbarrierreef.make_env()# initialize the environment\r\n",
    "iter_test = env.iter_test()      # an iterator which loops over the test set and sample submission"
   ],
   "outputs": [],
   "metadata": {
    "_kg_hide-input": true,
    "execution": {
     "iopub.execute_input": "2022-02-13T14:57:45.906440Z",
     "iopub.status.busy": "2022-02-13T14:57:45.905468Z",
     "iopub.status.idle": "2022-02-13T14:57:45.932802Z",
     "shell.execute_reply": "2022-02-13T14:57:45.933353Z",
     "shell.execute_reply.started": "2022-02-13T14:51:35.083961Z"
    },
    "papermill": {
     "duration": 0.288314,
     "end_time": "2022-02-13T14:57:45.933500",
     "exception": false,
     "start_time": "2022-02-13T14:57:45.645186",
     "status": "completed"
    },
    "tags": []
   }
  },
  {
   "cell_type": "code",
   "execution_count": null,
   "source": [
    "cd ../working"
   ],
   "outputs": [],
   "metadata": {
    "execution": {
     "iopub.execute_input": "2022-02-13T14:57:46.435596Z",
     "iopub.status.busy": "2022-02-13T14:57:46.434890Z",
     "iopub.status.idle": "2022-02-13T14:57:46.437855Z",
     "shell.execute_reply": "2022-02-13T14:57:46.438287Z",
     "shell.execute_reply.started": "2022-02-13T14:51:35.109287Z"
    },
    "papermill": {
     "duration": 0.21108,
     "end_time": "2022-02-13T14:57:46.438426",
     "exception": false,
     "start_time": "2022-02-13T14:57:46.227346",
     "status": "completed"
    },
    "tags": []
   }
  },
  {
   "cell_type": "markdown",
   "source": [
    "## Run Inference on **Test**"
   ],
   "metadata": {
    "papermill": {
     "duration": 0.17212,
     "end_time": "2022-02-13T14:57:46.783350",
     "exception": false,
     "start_time": "2022-02-13T14:57:46.611230",
     "status": "completed"
    },
    "tags": []
   }
  },
  {
   "cell_type": "code",
   "execution_count": null,
   "source": [
    "tracker = Tracker(\r\n",
    "    distance_function=euclidean_distance, \r\n",
    "    distance_threshold=50,\r\n",
    "    hit_inertia_min=3,\r\n",
    "    hit_inertia_max=6,\r\n",
    "    initialization_delay=1,\r\n",
    ")\r\n",
    "\r\n",
    "model = load_model(CKPT_PATH, conf=CONF, iou=IOU)\r\n",
    "\r\n",
    "frame_id =0\r\n",
    "for idx, (img, pred_df) in enumerate(tqdm(iter_test)):\r\n",
    "    if FDA_aug:\r\n",
    "        img = FDA_trans(image=img)['image']\r\n",
    "    bboxes, confs  = predict(model, img, size=IMG_SIZE, augment=AUGMENT)\r\n",
    "\r\n",
    "    predictions = tracking_function(tracker, frame_id, bboxes, confs)\r\n",
    "    \r\n",
    "    prediction_str = ' '.join(predictions)\r\n",
    "    pred_df['annotations'] = prediction_str\r\n",
    "    env.predict(pred_df)\r\n",
    "    if frame_id < 3:\r\n",
    "        if len(predict_box)>0:\r\n",
    "            box = [list(map(int,box.split(' ')[1:])) for box in predictions]\r\n",
    "        else:\r\n",
    "            box = []\r\n",
    "        display(show_img(img, box, bbox_format='coco'))\r\n",
    "#     print('Prediction:', pred_df)\r\n",
    "    frame_id += 1\r\n"
   ],
   "outputs": [],
   "metadata": {
    "_kg_hide-input": true,
    "execution": {
     "iopub.execute_input": "2022-02-13T14:57:47.144445Z",
     "iopub.status.busy": "2022-02-13T14:57:47.143805Z",
     "iopub.status.idle": "2022-02-13T14:57:49.402231Z",
     "shell.execute_reply": "2022-02-13T14:57:49.401214Z",
     "shell.execute_reply.started": "2022-02-13T14:51:35.127062Z"
    },
    "papermill": {
     "duration": 2.444129,
     "end_time": "2022-02-13T14:57:49.402360",
     "exception": false,
     "start_time": "2022-02-13T14:57:46.958231",
     "status": "completed"
    },
    "tags": []
   }
  },
  {
   "cell_type": "markdown",
   "source": [
    "# 👀 Check Submission"
   ],
   "metadata": {
    "papermill": {
     "duration": 0.225134,
     "end_time": "2022-02-13T14:57:49.854498",
     "exception": false,
     "start_time": "2022-02-13T14:57:49.629364",
     "status": "completed"
    },
    "tags": []
   }
  },
  {
   "cell_type": "code",
   "execution_count": null,
   "source": [
    "sub_df = pd.read_csv('submission.csv')\r\n",
    "sub_df.head()"
   ],
   "outputs": [],
   "metadata": {
    "execution": {
     "iopub.execute_input": "2022-02-13T14:57:50.329957Z",
     "iopub.status.busy": "2022-02-13T14:57:50.328103Z",
     "iopub.status.idle": "2022-02-13T14:57:50.332278Z",
     "shell.execute_reply": "2022-02-13T14:57:50.331786Z",
     "shell.execute_reply.started": "2022-02-13T14:51:37.271139Z"
    },
    "papermill": {
     "duration": 0.246992,
     "end_time": "2022-02-13T14:57:50.332400",
     "exception": false,
     "start_time": "2022-02-13T14:57:50.085408",
     "status": "completed"
    },
    "tags": []
   }
  },
  {
   "cell_type": "code",
   "execution_count": null,
   "source": [],
   "outputs": [],
   "metadata": {
    "papermill": {
     "duration": 0.227908,
     "end_time": "2022-02-13T14:57:51.739980",
     "exception": false,
     "start_time": "2022-02-13T14:57:51.512072",
     "status": "completed"
    },
    "tags": []
   }
  }
 ],
 "metadata": {
  "kernelspec": {
   "display_name": "Python 3",
   "language": "python",
   "name": "python3"
  },
  "language_info": {
   "codemirror_mode": {
    "name": "ipython",
    "version": 3
   },
   "file_extension": ".py",
   "mimetype": "text/x-python",
   "name": "python",
   "nbconvert_exporter": "python",
   "pygments_lexer": "ipython3",
   "version": "3.7.10"
  },
  "papermill": {
   "default_parameters": {},
   "duration": 127.43246,
   "end_time": "2022-02-13T14:57:53.484184",
   "environment_variables": {},
   "exception": null,
   "input_path": "__notebook__.ipynb",
   "output_path": "__notebook__.ipynb",
   "parameters": {},
   "start_time": "2022-02-13T14:55:46.051724",
   "version": "2.3.3"
  },
  "widgets": {
   "application/vnd.jupyter.widget-state+json": {
    "state": {
     "0b09c061799d49858ec8a11290404802": {
      "model_module": "@jupyter-widgets/controls",
      "model_module_version": "1.5.0",
      "model_name": "FloatProgressModel",
      "state": {
       "_dom_classes": [],
       "_model_module": "@jupyter-widgets/controls",
       "_model_module_version": "1.5.0",
       "_model_name": "FloatProgressModel",
       "_view_count": null,
       "_view_module": "@jupyter-widgets/controls",
       "_view_module_version": "1.5.0",
       "_view_name": "ProgressView",
       "bar_style": "success",
       "description": "",
       "description_tooltip": null,
       "layout": "IPY_MODEL_289a8662f62a49e8ba191a1be087d93c",
       "max": 23501,
       "min": 0,
       "orientation": "horizontal",
       "style": "IPY_MODEL_7b7f45983606455c8f7bcebf62e1bbd8",
       "value": 23501
      }
     },
     "11128c53354e418e807072a90c7b5236": {
      "model_module": "@jupyter-widgets/controls",
      "model_module_version": "1.5.0",
      "model_name": "HTMLModel",
      "state": {
       "_dom_classes": [],
       "_model_module": "@jupyter-widgets/controls",
       "_model_module_version": "1.5.0",
       "_model_name": "HTMLModel",
       "_view_count": null,
       "_view_module": "@jupyter-widgets/controls",
       "_view_module_version": "1.5.0",
       "_view_name": "HTMLView",
       "description": "",
       "description_tooltip": null,
       "layout": "IPY_MODEL_d53f42a091dc4ceb84973f576b96fcc8",
       "placeholder": "​",
       "style": "IPY_MODEL_4ee1a285caed4f6183c4ba1b61deb680",
       "value": "100%"
      }
     },
     "22671241239b4b7ba8f18356f2d0b1f3": {
      "model_module": "@jupyter-widgets/controls",
      "model_module_version": "1.5.0",
      "model_name": "ProgressStyleModel",
      "state": {
       "_model_module": "@jupyter-widgets/controls",
       "_model_module_version": "1.5.0",
       "_model_name": "ProgressStyleModel",
       "_view_count": null,
       "_view_module": "@jupyter-widgets/base",
       "_view_module_version": "1.2.0",
       "_view_name": "StyleView",
       "bar_color": null,
       "description_width": ""
      }
     },
     "289a8662f62a49e8ba191a1be087d93c": {
      "model_module": "@jupyter-widgets/base",
      "model_module_version": "1.2.0",
      "model_name": "LayoutModel",
      "state": {
       "_model_module": "@jupyter-widgets/base",
       "_model_module_version": "1.2.0",
       "_model_name": "LayoutModel",
       "_view_count": null,
       "_view_module": "@jupyter-widgets/base",
       "_view_module_version": "1.2.0",
       "_view_name": "LayoutView",
       "align_content": null,
       "align_items": null,
       "align_self": null,
       "border": null,
       "bottom": null,
       "display": null,
       "flex": null,
       "flex_flow": null,
       "grid_area": null,
       "grid_auto_columns": null,
       "grid_auto_flow": null,
       "grid_auto_rows": null,
       "grid_column": null,
       "grid_gap": null,
       "grid_row": null,
       "grid_template_areas": null,
       "grid_template_columns": null,
       "grid_template_rows": null,
       "height": null,
       "justify_content": null,
       "justify_items": null,
       "left": null,
       "margin": null,
       "max_height": null,
       "max_width": null,
       "min_height": null,
       "min_width": null,
       "object_fit": null,
       "object_position": null,
       "order": null,
       "overflow": null,
       "overflow_x": null,
       "overflow_y": null,
       "padding": null,
       "right": null,
       "top": null,
       "visibility": null,
       "width": null
      }
     },
     "2a8bdc64e8084ca5b6910b0901833aaf": {
      "model_module": "@jupyter-widgets/controls",
      "model_module_version": "1.5.0",
      "model_name": "HBoxModel",
      "state": {
       "_dom_classes": [],
       "_model_module": "@jupyter-widgets/controls",
       "_model_module_version": "1.5.0",
       "_model_name": "HBoxModel",
       "_view_count": null,
       "_view_module": "@jupyter-widgets/controls",
       "_view_module_version": "1.5.0",
       "_view_name": "HBoxView",
       "box_style": "",
       "children": [
        "IPY_MODEL_2c8e0ecb51d54dfebc4547b846d40289",
        "IPY_MODEL_50e5bbb680204cb1a237837869eb99c9",
        "IPY_MODEL_91582daf465a49658bcac66613bf80d9"
       ],
       "layout": "IPY_MODEL_ff1a7a710bde487e949282693733bfdb"
      }
     },
     "2c8e0ecb51d54dfebc4547b846d40289": {
      "model_module": "@jupyter-widgets/controls",
      "model_module_version": "1.5.0",
      "model_name": "HTMLModel",
      "state": {
       "_dom_classes": [],
       "_model_module": "@jupyter-widgets/controls",
       "_model_module_version": "1.5.0",
       "_model_name": "HTMLModel",
       "_view_count": null,
       "_view_module": "@jupyter-widgets/controls",
       "_view_module_version": "1.5.0",
       "_view_name": "HTMLView",
       "description": "",
       "description_tooltip": null,
       "layout": "IPY_MODEL_a2ef2b732e6e42c4802bfca580484f45",
       "placeholder": "​",
       "style": "IPY_MODEL_48c0f956d37f491ca49e85e9016bf00a",
       "value": "100%"
      }
     },
     "2cd32812b7204fa4aeb3109afcfa3bc6": {
      "model_module": "@jupyter-widgets/base",
      "model_module_version": "1.2.0",
      "model_name": "LayoutModel",
      "state": {
       "_model_module": "@jupyter-widgets/base",
       "_model_module_version": "1.2.0",
       "_model_name": "LayoutModel",
       "_view_count": null,
       "_view_module": "@jupyter-widgets/base",
       "_view_module_version": "1.2.0",
       "_view_name": "LayoutView",
       "align_content": null,
       "align_items": null,
       "align_self": null,
       "border": null,
       "bottom": null,
       "display": null,
       "flex": null,
       "flex_flow": null,
       "grid_area": null,
       "grid_auto_columns": null,
       "grid_auto_flow": null,
       "grid_auto_rows": null,
       "grid_column": null,
       "grid_gap": null,
       "grid_row": null,
       "grid_template_areas": null,
       "grid_template_columns": null,
       "grid_template_rows": null,
       "height": null,
       "justify_content": null,
       "justify_items": null,
       "left": null,
       "margin": null,
       "max_height": null,
       "max_width": null,
       "min_height": null,
       "min_width": null,
       "object_fit": null,
       "object_position": null,
       "order": null,
       "overflow": null,
       "overflow_x": null,
       "overflow_y": null,
       "padding": null,
       "right": null,
       "top": null,
       "visibility": null,
       "width": null
      }
     },
     "2e3f2342c840497883ea556cfa06b581": {
      "model_module": "@jupyter-widgets/base",
      "model_module_version": "1.2.0",
      "model_name": "LayoutModel",
      "state": {
       "_model_module": "@jupyter-widgets/base",
       "_model_module_version": "1.2.0",
       "_model_name": "LayoutModel",
       "_view_count": null,
       "_view_module": "@jupyter-widgets/base",
       "_view_module_version": "1.2.0",
       "_view_name": "LayoutView",
       "align_content": null,
       "align_items": null,
       "align_self": null,
       "border": null,
       "bottom": null,
       "display": null,
       "flex": null,
       "flex_flow": null,
       "grid_area": null,
       "grid_auto_columns": null,
       "grid_auto_flow": null,
       "grid_auto_rows": null,
       "grid_column": null,
       "grid_gap": null,
       "grid_row": null,
       "grid_template_areas": null,
       "grid_template_columns": null,
       "grid_template_rows": null,
       "height": null,
       "justify_content": null,
       "justify_items": null,
       "left": null,
       "margin": null,
       "max_height": null,
       "max_width": null,
       "min_height": null,
       "min_width": null,
       "object_fit": null,
       "object_position": null,
       "order": null,
       "overflow": null,
       "overflow_x": null,
       "overflow_y": null,
       "padding": null,
       "right": null,
       "top": null,
       "visibility": null,
       "width": null
      }
     },
     "32afa80c901742b9aaa7e1077966d417": {
      "model_module": "@jupyter-widgets/base",
      "model_module_version": "1.2.0",
      "model_name": "LayoutModel",
      "state": {
       "_model_module": "@jupyter-widgets/base",
       "_model_module_version": "1.2.0",
       "_model_name": "LayoutModel",
       "_view_count": null,
       "_view_module": "@jupyter-widgets/base",
       "_view_module_version": "1.2.0",
       "_view_name": "LayoutView",
       "align_content": null,
       "align_items": null,
       "align_self": null,
       "border": null,
       "bottom": null,
       "display": null,
       "flex": null,
       "flex_flow": null,
       "grid_area": null,
       "grid_auto_columns": null,
       "grid_auto_flow": null,
       "grid_auto_rows": null,
       "grid_column": null,
       "grid_gap": null,
       "grid_row": null,
       "grid_template_areas": null,
       "grid_template_columns": null,
       "grid_template_rows": null,
       "height": null,
       "justify_content": null,
       "justify_items": null,
       "left": null,
       "margin": null,
       "max_height": null,
       "max_width": null,
       "min_height": null,
       "min_width": null,
       "object_fit": null,
       "object_position": null,
       "order": null,
       "overflow": null,
       "overflow_x": null,
       "overflow_y": null,
       "padding": null,
       "right": null,
       "top": null,
       "visibility": null,
       "width": null
      }
     },
     "33b73911256842c4883ba81ea225e47a": {
      "model_module": "@jupyter-widgets/base",
      "model_module_version": "1.2.0",
      "model_name": "LayoutModel",
      "state": {
       "_model_module": "@jupyter-widgets/base",
       "_model_module_version": "1.2.0",
       "_model_name": "LayoutModel",
       "_view_count": null,
       "_view_module": "@jupyter-widgets/base",
       "_view_module_version": "1.2.0",
       "_view_name": "LayoutView",
       "align_content": null,
       "align_items": null,
       "align_self": null,
       "border": null,
       "bottom": null,
       "display": null,
       "flex": null,
       "flex_flow": null,
       "grid_area": null,
       "grid_auto_columns": null,
       "grid_auto_flow": null,
       "grid_auto_rows": null,
       "grid_column": null,
       "grid_gap": null,
       "grid_row": null,
       "grid_template_areas": null,
       "grid_template_columns": null,
       "grid_template_rows": null,
       "height": null,
       "justify_content": null,
       "justify_items": null,
       "left": null,
       "margin": null,
       "max_height": null,
       "max_width": null,
       "min_height": null,
       "min_width": null,
       "object_fit": null,
       "object_position": null,
       "order": null,
       "overflow": null,
       "overflow_x": null,
       "overflow_y": null,
       "padding": null,
       "right": null,
       "top": null,
       "visibility": null,
       "width": null
      }
     },
     "48c0f956d37f491ca49e85e9016bf00a": {
      "model_module": "@jupyter-widgets/controls",
      "model_module_version": "1.5.0",
      "model_name": "DescriptionStyleModel",
      "state": {
       "_model_module": "@jupyter-widgets/controls",
       "_model_module_version": "1.5.0",
       "_model_name": "DescriptionStyleModel",
       "_view_count": null,
       "_view_module": "@jupyter-widgets/base",
       "_view_module_version": "1.2.0",
       "_view_name": "StyleView",
       "description_width": ""
      }
     },
     "4e49f64acbc94f28918660b549ce753d": {
      "model_module": "@jupyter-widgets/controls",
      "model_module_version": "1.5.0",
      "model_name": "HBoxModel",
      "state": {
       "_dom_classes": [],
       "_model_module": "@jupyter-widgets/controls",
       "_model_module_version": "1.5.0",
       "_model_name": "HBoxModel",
       "_view_count": null,
       "_view_module": "@jupyter-widgets/controls",
       "_view_module_version": "1.5.0",
       "_view_name": "HBoxView",
       "box_style": "",
       "children": [
        "IPY_MODEL_50d81aa6cd8c48aea7334938593afdd6",
        "IPY_MODEL_867cf8ebb8894ef28147b460a6ac6fa6",
        "IPY_MODEL_6afa58ae81bc41a291e87cda81bf1a9e"
       ],
       "layout": "IPY_MODEL_69d53295d3e54066a8ec84ee8f0c75bc"
      }
     },
     "4ee1a285caed4f6183c4ba1b61deb680": {
      "model_module": "@jupyter-widgets/controls",
      "model_module_version": "1.5.0",
      "model_name": "DescriptionStyleModel",
      "state": {
       "_model_module": "@jupyter-widgets/controls",
       "_model_module_version": "1.5.0",
       "_model_name": "DescriptionStyleModel",
       "_view_count": null,
       "_view_module": "@jupyter-widgets/base",
       "_view_module_version": "1.2.0",
       "_view_name": "StyleView",
       "description_width": ""
      }
     },
     "50d81aa6cd8c48aea7334938593afdd6": {
      "model_module": "@jupyter-widgets/controls",
      "model_module_version": "1.5.0",
      "model_name": "HTMLModel",
      "state": {
       "_dom_classes": [],
       "_model_module": "@jupyter-widgets/controls",
       "_model_module_version": "1.5.0",
       "_model_name": "HTMLModel",
       "_view_count": null,
       "_view_module": "@jupyter-widgets/controls",
       "_view_module_version": "1.5.0",
       "_view_name": "HTMLView",
       "description": "",
       "description_tooltip": null,
       "layout": "IPY_MODEL_e641fcf9cffd404dad2b3447150181ab",
       "placeholder": "​",
       "style": "IPY_MODEL_6598c0b74e0343a0bb1c9246739b45f8",
       "value": "100%"
      }
     },
     "50e5bbb680204cb1a237837869eb99c9": {
      "model_module": "@jupyter-widgets/controls",
      "model_module_version": "1.5.0",
      "model_name": "FloatProgressModel",
      "state": {
       "_dom_classes": [],
       "_model_module": "@jupyter-widgets/controls",
       "_model_module_version": "1.5.0",
       "_model_name": "FloatProgressModel",
       "_view_count": null,
       "_view_module": "@jupyter-widgets/controls",
       "_view_module_version": "1.5.0",
       "_view_name": "ProgressView",
       "bar_style": "success",
       "description": "",
       "description_tooltip": null,
       "layout": "IPY_MODEL_d11ab0dade414802a38c01bdce5e1258",
       "max": 23501,
       "min": 0,
       "orientation": "horizontal",
       "style": "IPY_MODEL_a6b187467418434087f6f9f52cfed7bb",
       "value": 23501
      }
     },
     "58c6d359a41c4c06b3a927ea3cc11083": {
      "model_module": "@jupyter-widgets/controls",
      "model_module_version": "1.5.0",
      "model_name": "ProgressStyleModel",
      "state": {
       "_model_module": "@jupyter-widgets/controls",
       "_model_module_version": "1.5.0",
       "_model_name": "ProgressStyleModel",
       "_view_count": null,
       "_view_module": "@jupyter-widgets/base",
       "_view_module_version": "1.2.0",
       "_view_name": "StyleView",
       "bar_color": null,
       "description_width": ""
      }
     },
     "5c2cf1acff5549c4bafa6b1030cc54af": {
      "model_module": "@jupyter-widgets/controls",
      "model_module_version": "1.5.0",
      "model_name": "HBoxModel",
      "state": {
       "_dom_classes": [],
       "_model_module": "@jupyter-widgets/controls",
       "_model_module_version": "1.5.0",
       "_model_name": "HBoxModel",
       "_view_count": null,
       "_view_module": "@jupyter-widgets/controls",
       "_view_module_version": "1.5.0",
       "_view_name": "HBoxView",
       "box_style": "",
       "children": [
        "IPY_MODEL_11128c53354e418e807072a90c7b5236",
        "IPY_MODEL_0b09c061799d49858ec8a11290404802",
        "IPY_MODEL_e540223ad84f434287573f4bacdecc7b"
       ],
       "layout": "IPY_MODEL_e9c8b46930714e50bfd839cf5620902c"
      }
     },
     "6198f5c6821d4b7a9a128335c266ac88": {
      "model_module": "@jupyter-widgets/controls",
      "model_module_version": "1.5.0",
      "model_name": "DescriptionStyleModel",
      "state": {
       "_model_module": "@jupyter-widgets/controls",
       "_model_module_version": "1.5.0",
       "_model_name": "DescriptionStyleModel",
       "_view_count": null,
       "_view_module": "@jupyter-widgets/base",
       "_view_module_version": "1.2.0",
       "_view_name": "StyleView",
       "description_width": ""
      }
     },
     "640432dd1cf743bfb5d47bc18eab4b0e": {
      "model_module": "@jupyter-widgets/controls",
      "model_module_version": "1.5.0",
      "model_name": "DescriptionStyleModel",
      "state": {
       "_model_module": "@jupyter-widgets/controls",
       "_model_module_version": "1.5.0",
       "_model_name": "DescriptionStyleModel",
       "_view_count": null,
       "_view_module": "@jupyter-widgets/base",
       "_view_module_version": "1.2.0",
       "_view_name": "StyleView",
       "description_width": ""
      }
     },
     "6598c0b74e0343a0bb1c9246739b45f8": {
      "model_module": "@jupyter-widgets/controls",
      "model_module_version": "1.5.0",
      "model_name": "DescriptionStyleModel",
      "state": {
       "_model_module": "@jupyter-widgets/controls",
       "_model_module_version": "1.5.0",
       "_model_name": "DescriptionStyleModel",
       "_view_count": null,
       "_view_module": "@jupyter-widgets/base",
       "_view_module_version": "1.2.0",
       "_view_name": "StyleView",
       "description_width": ""
      }
     },
     "69d53295d3e54066a8ec84ee8f0c75bc": {
      "model_module": "@jupyter-widgets/base",
      "model_module_version": "1.2.0",
      "model_name": "LayoutModel",
      "state": {
       "_model_module": "@jupyter-widgets/base",
       "_model_module_version": "1.2.0",
       "_model_name": "LayoutModel",
       "_view_count": null,
       "_view_module": "@jupyter-widgets/base",
       "_view_module_version": "1.2.0",
       "_view_name": "LayoutView",
       "align_content": null,
       "align_items": null,
       "align_self": null,
       "border": null,
       "bottom": null,
       "display": null,
       "flex": null,
       "flex_flow": null,
       "grid_area": null,
       "grid_auto_columns": null,
       "grid_auto_flow": null,
       "grid_auto_rows": null,
       "grid_column": null,
       "grid_gap": null,
       "grid_row": null,
       "grid_template_areas": null,
       "grid_template_columns": null,
       "grid_template_rows": null,
       "height": null,
       "justify_content": null,
       "justify_items": null,
       "left": null,
       "margin": null,
       "max_height": null,
       "max_width": null,
       "min_height": null,
       "min_width": null,
       "object_fit": null,
       "object_position": null,
       "order": null,
       "overflow": null,
       "overflow_x": null,
       "overflow_y": null,
       "padding": null,
       "right": null,
       "top": null,
       "visibility": null,
       "width": null
      }
     },
     "6afa58ae81bc41a291e87cda81bf1a9e": {
      "model_module": "@jupyter-widgets/controls",
      "model_module_version": "1.5.0",
      "model_name": "HTMLModel",
      "state": {
       "_dom_classes": [],
       "_model_module": "@jupyter-widgets/controls",
       "_model_module_version": "1.5.0",
       "_model_name": "HTMLModel",
       "_view_count": null,
       "_view_module": "@jupyter-widgets/controls",
       "_view_module_version": "1.5.0",
       "_view_name": "HTMLView",
       "description": "",
       "description_tooltip": null,
       "layout": "IPY_MODEL_32afa80c901742b9aaa7e1077966d417",
       "placeholder": "​",
       "style": "IPY_MODEL_c33ad3f70f904e3193cbc163a62f5cc2",
       "value": " 23501/23501 [00:00&lt;00:00, 56211.64it/s]"
      }
     },
     "765f131f188f4f26987761553a97a768": {
      "model_module": "@jupyter-widgets/base",
      "model_module_version": "1.2.0",
      "model_name": "LayoutModel",
      "state": {
       "_model_module": "@jupyter-widgets/base",
       "_model_module_version": "1.2.0",
       "_model_name": "LayoutModel",
       "_view_count": null,
       "_view_module": "@jupyter-widgets/base",
       "_view_module_version": "1.2.0",
       "_view_name": "LayoutView",
       "align_content": null,
       "align_items": null,
       "align_self": null,
       "border": null,
       "bottom": null,
       "display": null,
       "flex": null,
       "flex_flow": null,
       "grid_area": null,
       "grid_auto_columns": null,
       "grid_auto_flow": null,
       "grid_auto_rows": null,
       "grid_column": null,
       "grid_gap": null,
       "grid_row": null,
       "grid_template_areas": null,
       "grid_template_columns": null,
       "grid_template_rows": null,
       "height": null,
       "justify_content": null,
       "justify_items": null,
       "left": null,
       "margin": null,
       "max_height": null,
       "max_width": null,
       "min_height": null,
       "min_width": null,
       "object_fit": null,
       "object_position": null,
       "order": null,
       "overflow": null,
       "overflow_x": null,
       "overflow_y": null,
       "padding": null,
       "right": null,
       "top": null,
       "visibility": null,
       "width": null
      }
     },
     "7b7f45983606455c8f7bcebf62e1bbd8": {
      "model_module": "@jupyter-widgets/controls",
      "model_module_version": "1.5.0",
      "model_name": "ProgressStyleModel",
      "state": {
       "_model_module": "@jupyter-widgets/controls",
       "_model_module_version": "1.5.0",
       "_model_name": "ProgressStyleModel",
       "_view_count": null,
       "_view_module": "@jupyter-widgets/base",
       "_view_module_version": "1.2.0",
       "_view_name": "StyleView",
       "bar_color": null,
       "description_width": ""
      }
     },
     "82a6e310fd7942d2a105f6a2d9258018": {
      "model_module": "@jupyter-widgets/base",
      "model_module_version": "1.2.0",
      "model_name": "LayoutModel",
      "state": {
       "_model_module": "@jupyter-widgets/base",
       "_model_module_version": "1.2.0",
       "_model_name": "LayoutModel",
       "_view_count": null,
       "_view_module": "@jupyter-widgets/base",
       "_view_module_version": "1.2.0",
       "_view_name": "LayoutView",
       "align_content": null,
       "align_items": null,
       "align_self": null,
       "border": null,
       "bottom": null,
       "display": null,
       "flex": null,
       "flex_flow": null,
       "grid_area": null,
       "grid_auto_columns": null,
       "grid_auto_flow": null,
       "grid_auto_rows": null,
       "grid_column": null,
       "grid_gap": null,
       "grid_row": null,
       "grid_template_areas": null,
       "grid_template_columns": null,
       "grid_template_rows": null,
       "height": null,
       "justify_content": null,
       "justify_items": null,
       "left": null,
       "margin": null,
       "max_height": null,
       "max_width": null,
       "min_height": null,
       "min_width": null,
       "object_fit": null,
       "object_position": null,
       "order": null,
       "overflow": null,
       "overflow_x": null,
       "overflow_y": null,
       "padding": null,
       "right": null,
       "top": null,
       "visibility": null,
       "width": "20px"
      }
     },
     "857da1f807f84f729bf0e215027eb51a": {
      "model_module": "@jupyter-widgets/controls",
      "model_module_version": "1.5.0",
      "model_name": "DescriptionStyleModel",
      "state": {
       "_model_module": "@jupyter-widgets/controls",
       "_model_module_version": "1.5.0",
       "_model_name": "DescriptionStyleModel",
       "_view_count": null,
       "_view_module": "@jupyter-widgets/base",
       "_view_module_version": "1.2.0",
       "_view_name": "StyleView",
       "description_width": ""
      }
     },
     "867cf8ebb8894ef28147b460a6ac6fa6": {
      "model_module": "@jupyter-widgets/controls",
      "model_module_version": "1.5.0",
      "model_name": "FloatProgressModel",
      "state": {
       "_dom_classes": [],
       "_model_module": "@jupyter-widgets/controls",
       "_model_module_version": "1.5.0",
       "_model_name": "FloatProgressModel",
       "_view_count": null,
       "_view_module": "@jupyter-widgets/controls",
       "_view_module_version": "1.5.0",
       "_view_name": "ProgressView",
       "bar_style": "success",
       "description": "",
       "description_tooltip": null,
       "layout": "IPY_MODEL_765f131f188f4f26987761553a97a768",
       "max": 23501,
       "min": 0,
       "orientation": "horizontal",
       "style": "IPY_MODEL_22671241239b4b7ba8f18356f2d0b1f3",
       "value": 23501
      }
     },
     "8ee1077582a04d058c4e0234dc3cb734": {
      "model_module": "@jupyter-widgets/controls",
      "model_module_version": "1.5.0",
      "model_name": "HBoxModel",
      "state": {
       "_dom_classes": [],
       "_model_module": "@jupyter-widgets/controls",
       "_model_module_version": "1.5.0",
       "_model_name": "HBoxModel",
       "_view_count": null,
       "_view_module": "@jupyter-widgets/controls",
       "_view_module_version": "1.5.0",
       "_view_name": "HBoxView",
       "box_style": "",
       "children": [
        "IPY_MODEL_ec2c04fdc2fb4d01af75c8fba2da894b",
        "IPY_MODEL_c9aaba113b5b4410a6ff382204860b3b",
        "IPY_MODEL_a68cfdaac30a49b4b0ed77fdd7406026"
       ],
       "layout": "IPY_MODEL_2e3f2342c840497883ea556cfa06b581"
      }
     },
     "91582daf465a49658bcac66613bf80d9": {
      "model_module": "@jupyter-widgets/controls",
      "model_module_version": "1.5.0",
      "model_name": "HTMLModel",
      "state": {
       "_dom_classes": [],
       "_model_module": "@jupyter-widgets/controls",
       "_model_module_version": "1.5.0",
       "_model_name": "HTMLModel",
       "_view_count": null,
       "_view_module": "@jupyter-widgets/controls",
       "_view_module_version": "1.5.0",
       "_view_name": "HTMLView",
       "description": "",
       "description_tooltip": null,
       "layout": "IPY_MODEL_aa7be6ceec504c6eb99f278bf7a49539",
       "placeholder": "​",
       "style": "IPY_MODEL_857da1f807f84f729bf0e215027eb51a",
       "value": " 23501/23501 [00:15&lt;00:00, 1798.04it/s]"
      }
     },
     "a2ef2b732e6e42c4802bfca580484f45": {
      "model_module": "@jupyter-widgets/base",
      "model_module_version": "1.2.0",
      "model_name": "LayoutModel",
      "state": {
       "_model_module": "@jupyter-widgets/base",
       "_model_module_version": "1.2.0",
       "_model_name": "LayoutModel",
       "_view_count": null,
       "_view_module": "@jupyter-widgets/base",
       "_view_module_version": "1.2.0",
       "_view_name": "LayoutView",
       "align_content": null,
       "align_items": null,
       "align_self": null,
       "border": null,
       "bottom": null,
       "display": null,
       "flex": null,
       "flex_flow": null,
       "grid_area": null,
       "grid_auto_columns": null,
       "grid_auto_flow": null,
       "grid_auto_rows": null,
       "grid_column": null,
       "grid_gap": null,
       "grid_row": null,
       "grid_template_areas": null,
       "grid_template_columns": null,
       "grid_template_rows": null,
       "height": null,
       "justify_content": null,
       "justify_items": null,
       "left": null,
       "margin": null,
       "max_height": null,
       "max_width": null,
       "min_height": null,
       "min_width": null,
       "object_fit": null,
       "object_position": null,
       "order": null,
       "overflow": null,
       "overflow_x": null,
       "overflow_y": null,
       "padding": null,
       "right": null,
       "top": null,
       "visibility": null,
       "width": null
      }
     },
     "a68cfdaac30a49b4b0ed77fdd7406026": {
      "model_module": "@jupyter-widgets/controls",
      "model_module_version": "1.5.0",
      "model_name": "HTMLModel",
      "state": {
       "_dom_classes": [],
       "_model_module": "@jupyter-widgets/controls",
       "_model_module_version": "1.5.0",
       "_model_name": "HTMLModel",
       "_view_count": null,
       "_view_module": "@jupyter-widgets/controls",
       "_view_module_version": "1.5.0",
       "_view_name": "HTMLView",
       "description": "",
       "description_tooltip": null,
       "layout": "IPY_MODEL_33b73911256842c4883ba81ea225e47a",
       "placeholder": "​",
       "style": "IPY_MODEL_ca40c06d2c0740438164fff37467bfa7",
       "value": " 3/? [00:01&lt;00:00,  1.67it/s]"
      }
     },
     "a6b187467418434087f6f9f52cfed7bb": {
      "model_module": "@jupyter-widgets/controls",
      "model_module_version": "1.5.0",
      "model_name": "ProgressStyleModel",
      "state": {
       "_model_module": "@jupyter-widgets/controls",
       "_model_module_version": "1.5.0",
       "_model_name": "ProgressStyleModel",
       "_view_count": null,
       "_view_module": "@jupyter-widgets/base",
       "_view_module_version": "1.2.0",
       "_view_name": "StyleView",
       "bar_color": null,
       "description_width": ""
      }
     },
     "aa7be6ceec504c6eb99f278bf7a49539": {
      "model_module": "@jupyter-widgets/base",
      "model_module_version": "1.2.0",
      "model_name": "LayoutModel",
      "state": {
       "_model_module": "@jupyter-widgets/base",
       "_model_module_version": "1.2.0",
       "_model_name": "LayoutModel",
       "_view_count": null,
       "_view_module": "@jupyter-widgets/base",
       "_view_module_version": "1.2.0",
       "_view_name": "LayoutView",
       "align_content": null,
       "align_items": null,
       "align_self": null,
       "border": null,
       "bottom": null,
       "display": null,
       "flex": null,
       "flex_flow": null,
       "grid_area": null,
       "grid_auto_columns": null,
       "grid_auto_flow": null,
       "grid_auto_rows": null,
       "grid_column": null,
       "grid_gap": null,
       "grid_row": null,
       "grid_template_areas": null,
       "grid_template_columns": null,
       "grid_template_rows": null,
       "height": null,
       "justify_content": null,
       "justify_items": null,
       "left": null,
       "margin": null,
       "max_height": null,
       "max_width": null,
       "min_height": null,
       "min_width": null,
       "object_fit": null,
       "object_position": null,
       "order": null,
       "overflow": null,
       "overflow_x": null,
       "overflow_y": null,
       "padding": null,
       "right": null,
       "top": null,
       "visibility": null,
       "width": null
      }
     },
     "c33ad3f70f904e3193cbc163a62f5cc2": {
      "model_module": "@jupyter-widgets/controls",
      "model_module_version": "1.5.0",
      "model_name": "DescriptionStyleModel",
      "state": {
       "_model_module": "@jupyter-widgets/controls",
       "_model_module_version": "1.5.0",
       "_model_name": "DescriptionStyleModel",
       "_view_count": null,
       "_view_module": "@jupyter-widgets/base",
       "_view_module_version": "1.2.0",
       "_view_name": "StyleView",
       "description_width": ""
      }
     },
     "c9aaba113b5b4410a6ff382204860b3b": {
      "model_module": "@jupyter-widgets/controls",
      "model_module_version": "1.5.0",
      "model_name": "FloatProgressModel",
      "state": {
       "_dom_classes": [],
       "_model_module": "@jupyter-widgets/controls",
       "_model_module_version": "1.5.0",
       "_model_name": "FloatProgressModel",
       "_view_count": null,
       "_view_module": "@jupyter-widgets/controls",
       "_view_module_version": "1.5.0",
       "_view_name": "ProgressView",
       "bar_style": "success",
       "description": "",
       "description_tooltip": null,
       "layout": "IPY_MODEL_82a6e310fd7942d2a105f6a2d9258018",
       "max": 1,
       "min": 0,
       "orientation": "horizontal",
       "style": "IPY_MODEL_58c6d359a41c4c06b3a927ea3cc11083",
       "value": 1
      }
     },
     "ca40c06d2c0740438164fff37467bfa7": {
      "model_module": "@jupyter-widgets/controls",
      "model_module_version": "1.5.0",
      "model_name": "DescriptionStyleModel",
      "state": {
       "_model_module": "@jupyter-widgets/controls",
       "_model_module_version": "1.5.0",
       "_model_name": "DescriptionStyleModel",
       "_view_count": null,
       "_view_module": "@jupyter-widgets/base",
       "_view_module_version": "1.2.0",
       "_view_name": "StyleView",
       "description_width": ""
      }
     },
     "cf263b89d284406b960529cb7ee825d5": {
      "model_module": "@jupyter-widgets/base",
      "model_module_version": "1.2.0",
      "model_name": "LayoutModel",
      "state": {
       "_model_module": "@jupyter-widgets/base",
       "_model_module_version": "1.2.0",
       "_model_name": "LayoutModel",
       "_view_count": null,
       "_view_module": "@jupyter-widgets/base",
       "_view_module_version": "1.2.0",
       "_view_name": "LayoutView",
       "align_content": null,
       "align_items": null,
       "align_self": null,
       "border": null,
       "bottom": null,
       "display": null,
       "flex": null,
       "flex_flow": null,
       "grid_area": null,
       "grid_auto_columns": null,
       "grid_auto_flow": null,
       "grid_auto_rows": null,
       "grid_column": null,
       "grid_gap": null,
       "grid_row": null,
       "grid_template_areas": null,
       "grid_template_columns": null,
       "grid_template_rows": null,
       "height": null,
       "justify_content": null,
       "justify_items": null,
       "left": null,
       "margin": null,
       "max_height": null,
       "max_width": null,
       "min_height": null,
       "min_width": null,
       "object_fit": null,
       "object_position": null,
       "order": null,
       "overflow": null,
       "overflow_x": null,
       "overflow_y": null,
       "padding": null,
       "right": null,
       "top": null,
       "visibility": null,
       "width": null
      }
     },
     "d11ab0dade414802a38c01bdce5e1258": {
      "model_module": "@jupyter-widgets/base",
      "model_module_version": "1.2.0",
      "model_name": "LayoutModel",
      "state": {
       "_model_module": "@jupyter-widgets/base",
       "_model_module_version": "1.2.0",
       "_model_name": "LayoutModel",
       "_view_count": null,
       "_view_module": "@jupyter-widgets/base",
       "_view_module_version": "1.2.0",
       "_view_name": "LayoutView",
       "align_content": null,
       "align_items": null,
       "align_self": null,
       "border": null,
       "bottom": null,
       "display": null,
       "flex": null,
       "flex_flow": null,
       "grid_area": null,
       "grid_auto_columns": null,
       "grid_auto_flow": null,
       "grid_auto_rows": null,
       "grid_column": null,
       "grid_gap": null,
       "grid_row": null,
       "grid_template_areas": null,
       "grid_template_columns": null,
       "grid_template_rows": null,
       "height": null,
       "justify_content": null,
       "justify_items": null,
       "left": null,
       "margin": null,
       "max_height": null,
       "max_width": null,
       "min_height": null,
       "min_width": null,
       "object_fit": null,
       "object_position": null,
       "order": null,
       "overflow": null,
       "overflow_x": null,
       "overflow_y": null,
       "padding": null,
       "right": null,
       "top": null,
       "visibility": null,
       "width": null
      }
     },
     "d53f42a091dc4ceb84973f576b96fcc8": {
      "model_module": "@jupyter-widgets/base",
      "model_module_version": "1.2.0",
      "model_name": "LayoutModel",
      "state": {
       "_model_module": "@jupyter-widgets/base",
       "_model_module_version": "1.2.0",
       "_model_name": "LayoutModel",
       "_view_count": null,
       "_view_module": "@jupyter-widgets/base",
       "_view_module_version": "1.2.0",
       "_view_name": "LayoutView",
       "align_content": null,
       "align_items": null,
       "align_self": null,
       "border": null,
       "bottom": null,
       "display": null,
       "flex": null,
       "flex_flow": null,
       "grid_area": null,
       "grid_auto_columns": null,
       "grid_auto_flow": null,
       "grid_auto_rows": null,
       "grid_column": null,
       "grid_gap": null,
       "grid_row": null,
       "grid_template_areas": null,
       "grid_template_columns": null,
       "grid_template_rows": null,
       "height": null,
       "justify_content": null,
       "justify_items": null,
       "left": null,
       "margin": null,
       "max_height": null,
       "max_width": null,
       "min_height": null,
       "min_width": null,
       "object_fit": null,
       "object_position": null,
       "order": null,
       "overflow": null,
       "overflow_x": null,
       "overflow_y": null,
       "padding": null,
       "right": null,
       "top": null,
       "visibility": null,
       "width": null
      }
     },
     "e540223ad84f434287573f4bacdecc7b": {
      "model_module": "@jupyter-widgets/controls",
      "model_module_version": "1.5.0",
      "model_name": "HTMLModel",
      "state": {
       "_dom_classes": [],
       "_model_module": "@jupyter-widgets/controls",
       "_model_module_version": "1.5.0",
       "_model_name": "HTMLModel",
       "_view_count": null,
       "_view_module": "@jupyter-widgets/controls",
       "_view_module_version": "1.5.0",
       "_view_name": "HTMLView",
       "description": "",
       "description_tooltip": null,
       "layout": "IPY_MODEL_2cd32812b7204fa4aeb3109afcfa3bc6",
       "placeholder": "​",
       "style": "IPY_MODEL_640432dd1cf743bfb5d47bc18eab4b0e",
       "value": " 23501/23501 [00:00&lt;00:00, 255372.83it/s]"
      }
     },
     "e641fcf9cffd404dad2b3447150181ab": {
      "model_module": "@jupyter-widgets/base",
      "model_module_version": "1.2.0",
      "model_name": "LayoutModel",
      "state": {
       "_model_module": "@jupyter-widgets/base",
       "_model_module_version": "1.2.0",
       "_model_name": "LayoutModel",
       "_view_count": null,
       "_view_module": "@jupyter-widgets/base",
       "_view_module_version": "1.2.0",
       "_view_name": "LayoutView",
       "align_content": null,
       "align_items": null,
       "align_self": null,
       "border": null,
       "bottom": null,
       "display": null,
       "flex": null,
       "flex_flow": null,
       "grid_area": null,
       "grid_auto_columns": null,
       "grid_auto_flow": null,
       "grid_auto_rows": null,
       "grid_column": null,
       "grid_gap": null,
       "grid_row": null,
       "grid_template_areas": null,
       "grid_template_columns": null,
       "grid_template_rows": null,
       "height": null,
       "justify_content": null,
       "justify_items": null,
       "left": null,
       "margin": null,
       "max_height": null,
       "max_width": null,
       "min_height": null,
       "min_width": null,
       "object_fit": null,
       "object_position": null,
       "order": null,
       "overflow": null,
       "overflow_x": null,
       "overflow_y": null,
       "padding": null,
       "right": null,
       "top": null,
       "visibility": null,
       "width": null
      }
     },
     "e9c8b46930714e50bfd839cf5620902c": {
      "model_module": "@jupyter-widgets/base",
      "model_module_version": "1.2.0",
      "model_name": "LayoutModel",
      "state": {
       "_model_module": "@jupyter-widgets/base",
       "_model_module_version": "1.2.0",
       "_model_name": "LayoutModel",
       "_view_count": null,
       "_view_module": "@jupyter-widgets/base",
       "_view_module_version": "1.2.0",
       "_view_name": "LayoutView",
       "align_content": null,
       "align_items": null,
       "align_self": null,
       "border": null,
       "bottom": null,
       "display": null,
       "flex": null,
       "flex_flow": null,
       "grid_area": null,
       "grid_auto_columns": null,
       "grid_auto_flow": null,
       "grid_auto_rows": null,
       "grid_column": null,
       "grid_gap": null,
       "grid_row": null,
       "grid_template_areas": null,
       "grid_template_columns": null,
       "grid_template_rows": null,
       "height": null,
       "justify_content": null,
       "justify_items": null,
       "left": null,
       "margin": null,
       "max_height": null,
       "max_width": null,
       "min_height": null,
       "min_width": null,
       "object_fit": null,
       "object_position": null,
       "order": null,
       "overflow": null,
       "overflow_x": null,
       "overflow_y": null,
       "padding": null,
       "right": null,
       "top": null,
       "visibility": null,
       "width": null
      }
     },
     "ec2c04fdc2fb4d01af75c8fba2da894b": {
      "model_module": "@jupyter-widgets/controls",
      "model_module_version": "1.5.0",
      "model_name": "HTMLModel",
      "state": {
       "_dom_classes": [],
       "_model_module": "@jupyter-widgets/controls",
       "_model_module_version": "1.5.0",
       "_model_name": "HTMLModel",
       "_view_count": null,
       "_view_module": "@jupyter-widgets/controls",
       "_view_module_version": "1.5.0",
       "_view_name": "HTMLView",
       "description": "",
       "description_tooltip": null,
       "layout": "IPY_MODEL_cf263b89d284406b960529cb7ee825d5",
       "placeholder": "​",
       "style": "IPY_MODEL_6198f5c6821d4b7a9a128335c266ac88",
       "value": ""
      }
     },
     "ff1a7a710bde487e949282693733bfdb": {
      "model_module": "@jupyter-widgets/base",
      "model_module_version": "1.2.0",
      "model_name": "LayoutModel",
      "state": {
       "_model_module": "@jupyter-widgets/base",
       "_model_module_version": "1.2.0",
       "_model_name": "LayoutModel",
       "_view_count": null,
       "_view_module": "@jupyter-widgets/base",
       "_view_module_version": "1.2.0",
       "_view_name": "LayoutView",
       "align_content": null,
       "align_items": null,
       "align_self": null,
       "border": null,
       "bottom": null,
       "display": null,
       "flex": null,
       "flex_flow": null,
       "grid_area": null,
       "grid_auto_columns": null,
       "grid_auto_flow": null,
       "grid_auto_rows": null,
       "grid_column": null,
       "grid_gap": null,
       "grid_row": null,
       "grid_template_areas": null,
       "grid_template_columns": null,
       "grid_template_rows": null,
       "height": null,
       "justify_content": null,
       "justify_items": null,
       "left": null,
       "margin": null,
       "max_height": null,
       "max_width": null,
       "min_height": null,
       "min_width": null,
       "object_fit": null,
       "object_position": null,
       "order": null,
       "overflow": null,
       "overflow_x": null,
       "overflow_y": null,
       "padding": null,
       "right": null,
       "top": null,
       "visibility": null,
       "width": null
      }
     }
    },
    "version_major": 2,
    "version_minor": 0
   }
  }
 },
 "nbformat": 4,
 "nbformat_minor": 5
}